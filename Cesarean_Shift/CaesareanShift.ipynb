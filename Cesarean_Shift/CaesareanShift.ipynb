{
 "cells": [
  {
   "cell_type": "code",
   "execution_count": 1,
   "metadata": {
    "collapsed": false
   },
   "outputs": [
    {
     "name": "stdout",
     "output_type": "stream",
     "text": [
      "what would you like to encrypt?\"hi\"\n",
      "LM\n"
     ]
    }
   ],
   "source": [
    "pt_alph = 'ABCDEFGHIJKLMNOPQRSTUVWXYZ'\n",
    "ct_alph = 'DEFHIJKLMNOPQRSTUVWXYZABC'\n",
    "\n",
    "def encrypt(plaintext):\n",
    "    #initailize the ciphertext to an empty string\n",
    "    ciphertext=''\n",
    "    \n",
    "    #iterate through over through each letter in the plaintext\n",
    "    for letter in plaintext:\n",
    "        #For any character which are not in thr alphabet\n",
    "        #(spaces, punctuation, etc) keep them the way\n",
    "        #they are.\n",
    "        if letter not in pt_alph:\n",
    "            ciphertext += letter\n",
    "            continue\n",
    "        \n",
    "        #Get the index of the letter in the plaintext alphabet\n",
    "        index = pt_alph.index(letter)\n",
    "        \n",
    "        #Find the letter in the cipher text alphabet at this\n",
    "        #index, and add it to the ciphertext.\n",
    "        ciphertext += ct_alph[index]\n",
    "    \n",
    "    #Return the ciphertext.\n",
    "    return ciphertext\n",
    "\n",
    "def main():\n",
    "    m = input('what would you like to encrypt?')\n",
    "    m = m.upper()\n",
    "    \n",
    "    secret_message = encrypt(m)\n",
    "    \n",
    "    print(secret_message)\n",
    "    \n",
    "main()\n",
    "\n",
    "    \n",
    "   "
   ]
  }
 ],
 "metadata": {
  "kernelspec": {
   "display_name": "Python 2 (SageMath)",
   "language": "python",
   "name": "python2"
  },
  "language_info": {
   "codemirror_mode": {
    "name": "ipython",
    "version": 2
   },
   "file_extension": ".py",
   "mimetype": "text/x-python",
   "name": "python",
   "nbconvert_exporter": "python",
   "pygments_lexer": "ipython2",
   "version": "2.7.13"
  }
 },
 "nbformat": 4,
 "nbformat_minor": 0
}
